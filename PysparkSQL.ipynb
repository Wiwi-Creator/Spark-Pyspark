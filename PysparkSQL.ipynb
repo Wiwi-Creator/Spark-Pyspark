{
 "cells": [
  {
   "cell_type": "markdown",
   "metadata": {},
   "source": [
    "pyspark_df 為1個DataFrame\n",
    "將1個Pandas的DataFrame轉換成Pyspark的DataFrame,並呈現整個df"
   ]
  },
  {
   "cell_type": "code",
   "execution_count": null,
   "metadata": {},
   "outputs": [],
   "source": [
    "import pandas as pd \n",
    "import pyspark\n",
    "\n",
    "data = [['wiwi',90],['Terry',100]]\n",
    "df   = pd.DataFrame(data,columns = ['Name','Grades'])\n",
    "pyspark_df = spark.createDataFrame(df)\n",
    "pyspark_df.show()"
   ]
  },
  {
   "cell_type": "markdown",
   "metadata": {},
   "source": [
    "若我們想知道wiwi的成績,可以透過filter()"
   ]
  },
  {
   "cell_type": "code",
   "execution_count": null,
   "metadata": {},
   "outputs": [],
   "source": [
    "import pandas as pd \n",
    "import pyspark\n",
    "\n",
    "data = [['wiwi',90],['Terry',100]]\n",
    "df   = pd.DataFrame(data,columns = ['Name','Grades'])\n",
    "pyspark_df = spark.createDataFrame(df)\n",
    "pyspark_df.filter(pyspark.Name == 'wiwi').show()"
   ]
  },
  {
   "cell_type": "markdown",
   "metadata": {},
   "source": [
    "如果我們想要的是Age這個值，我們可以用collect()這個function從pyspark RDD (Resilient Distributed Dataset，也就是spark背後的分散式數據集)中取出來，\n",
    "因為我們要取出的是第一行中的第二個單元，因此以[0][1]去取(記住python是從0開始計算)。"
   ]
  },
  {
   "cell_type": "code",
   "execution_count": null,
   "metadata": {},
   "outputs": [],
   "source": [
    "import pandas as pd \n",
    "import pyspark\n",
    "\n",
    "data = [['wiwi',90],['Terry',100]]\n",
    "df   = pd.DataFrame(data,columns = ['Name','Grades'])\n",
    "pyspark_df = spark.createDataFrame(df)\n",
    "pyspark_df.filter(pyspark.Name == 'wiwi').collect()[0][1]"
   ]
  },
  {
   "cell_type": "markdown",
   "metadata": {},
   "source": [
    "可以透過select()及distinct()搜尋名字"
   ]
  },
  {
   "cell_type": "code",
   "execution_count": null,
   "metadata": {},
   "outputs": [],
   "source": [
    "import pandas as pd \n",
    "import pyspark\n",
    "\n",
    "data = [['wiwi',90],['Terry',100]]\n",
    "df   = pd.DataFrame(data,columns = ['Name','Grades'])\n",
    "pyspark_df = spark.createDataFrame(df)\n",
    "pyspark_df.select('Name').distinct().show()"
   ]
  },
  {
   "cell_type": "markdown",
   "metadata": {},
   "source": [
    "或許我們會想知道，叫同個名字的人平均成績。這時候會要用到groupby做aggregate，並且搭配agg來做到計算。\n",
    "\n",
    "此處我們在用到agg計算時，需要先導入pyspark.sql.functions這個包，裡面包含基礎計算的所有函數。 此處* asterisk就是將所有function一併載入，這可以省去我們每使用一個function就要import一次的麻煩。"
   ]
  },
  {
   "cell_type": "code",
   "execution_count": null,
   "metadata": {},
   "outputs": [],
   "source": [
    "import pandas as pd \n",
    "import pyspark\n",
    "from pyspark.sql.functions import *\n",
    "\n",
    "data = [['wiwi',90],['Terry',100]]\n",
    "df   = pd.DataFrame(data,columns = ['Name','Grades'])\n",
    "pyspark_df = spark.createDataFrame(df)\n",
    "pyspark_df.groupby('Name').agg(mean('Grades')).show()"
   ]
  },
  {
   "cell_type": "markdown",
   "metadata": {},
   "source": [
    "join語法:\n",
    "假設今天須透過\"Name\" join其各自的班導師"
   ]
  },
  {
   "cell_type": "code",
   "execution_count": null,
   "metadata": {},
   "outputs": [],
   "source": [
    "import pandas as pd \n",
    "import pyspark\n",
    "from pyspark.sql.functions import *\n",
    "\n",
    "data = [['wiwi',90],['Terry',100]]\n",
    "df   = pd.DataFrame(data,columns = ['Name','Grades'])\n",
    "pyspark_df = spark.createDataFrame(df)\n",
    "pyspark_df.join(teacher,'Name',how = 'left').show()"
   ]
  }
 ],
 "metadata": {
  "interpreter": {
   "hash": "23300995598eec4bcf6bd89cf02d1c3675e8b2616661418dbbf5580aa901878d"
  },
  "kernelspec": {
   "display_name": "Python 3.9.11 64-bit",
   "language": "python",
   "name": "python3"
  },
  "language_info": {
   "codemirror_mode": {
    "name": "ipython",
    "version": 3
   },
   "file_extension": ".py",
   "mimetype": "text/x-python",
   "name": "python",
   "nbconvert_exporter": "python",
   "pygments_lexer": "ipython3",
   "version": "3.9.11"
  },
  "orig_nbformat": 4
 },
 "nbformat": 4,
 "nbformat_minor": 2
}
